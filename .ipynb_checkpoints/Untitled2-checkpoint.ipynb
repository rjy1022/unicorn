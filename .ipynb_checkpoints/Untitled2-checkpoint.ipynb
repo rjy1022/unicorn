{
 "cells": [
  {
   "cell_type": "code",
   "execution_count": 1,
   "metadata": {},
   "outputs": [
    {
     "ename": "NameError",
     "evalue": "name 'commandArgs' is not defined",
     "output_type": "error",
     "traceback": [
      "\u001b[0;31m---------------------------------------------------------------------------\u001b[0m",
      "\u001b[0;31mNameError\u001b[0m                                 Traceback (most recent call last)",
      "\u001b[0;32m<ipython-input-1-b5144041e1be>\u001b[0m in \u001b[0;36m<module>\u001b[0;34m\u001b[0m\n\u001b[0;32m----> 1\u001b[0;31m \u001b[0margs\u001b[0m \u001b[0;34m=\u001b[0m \u001b[0mcommandArgs\u001b[0m\u001b[0;34m(\u001b[0m\u001b[0mtrailingOnly\u001b[0m \u001b[0;34m=\u001b[0m \u001b[0mTRUE\u001b[0m\u001b[0;34m)\u001b[0m\u001b[0;34m\u001b[0m\u001b[0;34m\u001b[0m\u001b[0m\n\u001b[0m\u001b[1;32m      2\u001b[0m \u001b[0mmethod\u001b[0m \u001b[0;34m=\u001b[0m \u001b[0margs\u001b[0m\u001b[0;34m[\u001b[0m\u001b[0;36m0\u001b[0m\u001b[0;34m]\u001b[0m\u001b[0;34m\u001b[0m\u001b[0;34m\u001b[0m\u001b[0m\n\u001b[1;32m      3\u001b[0m \u001b[0mfilename\u001b[0m \u001b[0;34m=\u001b[0m \u001b[0margs\u001b[0m\u001b[0;34m[\u001b[0m\u001b[0;36m1\u001b[0m\u001b[0;34m]\u001b[0m\u001b[0;34m\u001b[0m\u001b[0;34m\u001b[0m\u001b[0m\n\u001b[1;32m      4\u001b[0m \u001b[0mfunc\u001b[0m \u001b[0;34m=\u001b[0m \u001b[0margs\u001b[0m\u001b[0;34m[\u001b[0m\u001b[0;36m2\u001b[0m\u001b[0;34m]\u001b[0m\u001b[0;34m\u001b[0m\u001b[0;34m\u001b[0m\u001b[0m\n",
      "\u001b[0;31mNameError\u001b[0m: name 'commandArgs' is not defined"
     ]
    }
   ],
   "source": [
    "import argparse\n",
    "import pandas as pd\n",
    "import re\n",
    "\n",
    "args = commandArgs(trailingOnly = TRUE)\n",
    "method = args[0]\n",
    "filename = args[1]\n",
    "func = args[2]\n",
    "func_gene=args[3]\n",
    "exonic_func_gene=args[4]"
   ]
  },
  {
   "cell_type": "code",
   "execution_count": 7,
   "metadata": {},
   "outputs": [
    {
     "ename": "SyntaxError",
     "evalue": "invalid syntax (<ipython-input-7-394959748fe8>, line 1)",
     "output_type": "error",
     "traceback": [
      "\u001b[0;36m  File \u001b[0;32m\"<ipython-input-7-394959748fe8>\"\u001b[0;36m, line \u001b[0;32m1\u001b[0m\n\u001b[0;31m    if func_gene =get_ipython().getoutput(' na:')\u001b[0m\n\u001b[0m                 ^\u001b[0m\n\u001b[0;31mSyntaxError\u001b[0m\u001b[0;31m:\u001b[0m invalid syntax\n"
     ]
    }
   ],
   "source": [
    "if func_gene != na:\n",
    "    func_gene = func_gene.split()\n",
    "    func_gene = func_gene[[1]]\n",
    "    \n",
    "if exonic_func_gene != na:\n",
    "    exonic_func_gene = exonic_func_gene.split()\n",
    "    exonic_func_gene = exonic_func_gene[[1]]\n",
    "    for k in 1:length(exonic_func_gene){\n",
    "        if([bool(re.search('_', exonic_func)gene[k])]):\n",
    "        exonic_func_gene[k] = re.sub('_', ' ', exonic_func_gene[k])\n",
    "    }\n",
    "\n",
    "print(func_gene)\n",
    "print(exonic_func_gene)\n",
    "    \n"
   ]
  },
  {
   "cell_type": "code",
   "execution_count": null,
   "metadata": {},
   "outputs": [],
   "source": [
    "Annovar_output=pd.read_csv(\"filename\")\n",
    "group=''\n",
    "gene_list=unique(Annovar_output['Gene.refGene'])\n",
    "\n",
    "for i in gene_list:\n",
    "    if(i == 1):\n",
    "        if(func.isnull()):\n",
    "            idx=which(Annovar_output['Gene.refGene']==gene_list[i] & Annovar_output['Func.refGene']=='exonic' & Annovar_output['ExonicFunc.refGene'].isin(['frameshift deletion', 'frameshift insertion','nonsynonymous SNV', 'startloss', 'stopgain', 'stoploss']))\n",
    "        elif(func=='All'):\n",
    "            idx=which(Annovar_output['Gene.refGene']==gene_list[i])\n",
    "        elif(func=='manual'):\n",
    "            idx=which(Annovar_output['Gene.refGene']==gene_list[i] & Annovar_output['Func.refGene'] %in% func_gene & Annovar_output['ExonicFunc.refGene'].isin(exonic_func_gene))\n",
    "        else:\n",
    "            print('Fix the flag')\n",
    "            break  \n",
    "        if(length(idx)!=0):\n",
    "            group=paste0(group, gene_list[i])\n",
    "\n",
    "    else:\n",
    "        if(func.isnull()):\n",
    "            idx=which(Annovar_output['Gene.refGene']==gene_list[i] & Annovar_output['Func.refGene']=='exonic' & Annovar_output['ExonicFunc.refGene'].isin(['frameshift deletion', 'frameshift insertion','nonsynonymous SNV', 'startloss', 'stopgain', 'stoploss']))\n",
    "        elif(func=='All'):\n",
    "             idx=which(Annovar_output['Gene.refGene']==gene_list[i])\n",
    "        elif(func=='manual'):\n",
    "             idx=which(Annovar_output['Gene.refGene']==gene_list[i] & Annovar_output['Func.refGene'].isin(func_gene) & Annovar_output['ExonicFunc.refGene'].isin(exonic_func_gene))\n",
    "        else:\n",
    "             print('Fix the flag')\n",
    "             break\n",
    "           \n",
    "           \n",
    "        if(len(idx)!=0):\n",
    "                group=\"\\n\".join(group, gene_list[i])\n",
    "\n",
    " \n",
    "        if(len(idx)!=0):\n",
    "            #Match the form of markers' names\n",
    "            for j in idx:\n",
    "                marker_name=paste0(Annovar_output[j,1],':',Annovar_output[j,2],'_',Annovar_output[j,4],'/',Annovar_output[j,5])\n",
    "                group=paste(group,marker_name)\n"
   ]
  },
  {
   "cell_type": "code",
   "execution_count": null,
   "metadata": {},
   "outputs": [],
   "source": []
  }
 ],
 "metadata": {
  "kernelspec": {
   "display_name": "Python 3",
   "language": "python",
   "name": "python3"
  },
  "language_info": {
   "codemirror_mode": {
    "name": "ipython",
    "version": 3
   },
   "file_extension": ".py",
   "mimetype": "text/x-python",
   "name": "python",
   "nbconvert_exporter": "python",
   "pygments_lexer": "ipython3",
   "version": "3.7.4"
  }
 },
 "nbformat": 4,
 "nbformat_minor": 2
}
